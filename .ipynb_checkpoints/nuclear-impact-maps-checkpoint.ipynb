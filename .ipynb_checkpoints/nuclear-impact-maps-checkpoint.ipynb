{
 "cells": [
  {
   "cell_type": "code",
   "execution_count": 4,
   "metadata": {},
   "outputs": [
    {
     "ename": "IndentationError",
     "evalue": "expected an indented block (<ipython-input-4-6fe1c0be6831>, line 26)",
     "output_type": "error",
     "traceback": [
      "\u001b[0;36m  File \u001b[0;32m\"<ipython-input-4-6fe1c0be6831>\"\u001b[0;36m, line \u001b[0;32m26\u001b[0m\n\u001b[0;31m    print('')\u001b[0m\n\u001b[0m        ^\u001b[0m\n\u001b[0;31mIndentationError\u001b[0m\u001b[0;31m:\u001b[0m expected an indented block\n"
     ]
    }
   ],
   "source": [
    "import re\n",
    "\n",
    "%store -r totals_data\n",
    "%store -r series_data\n",
    "%store -r tests_data\n",
    "\n",
    "lat_tests = []\n",
    "lon_tests = []\n",
    "name_tests = []\n",
    "yields = []\n",
    "\n",
    "for country, tests in tests_data.items():\n",
    "    print(country)\n",
    "    for test in tests:\n",
    "        print('Name: %s' % test['Name'])\n",
    "        print('Series %s' % test['Series'])\n",
    "        print('Location: %s' % test['Location'])\n",
    "        print('Yield: %s' % test['Yield'])\n",
    "        \n",
    "        if 'aborted' not in test['Name'] and 'canceled' not in test['Name']:\n",
    "            True\n",
    "            # lat_tests.append(latitude)\n",
    "            # lon_tests.append(longitude)\n",
    "            # name_tests.append(test['Name'])\n",
    "            \n",
    "        print('')\n",
    "    "
   ]
  },
  {
   "cell_type": "code",
   "execution_count": null,
   "metadata": {},
   "outputs": [],
   "source": []
  }
 ],
 "metadata": {
  "kernelspec": {
   "display_name": "venv",
   "language": "python",
   "name": "venv"
  },
  "language_info": {
   "codemirror_mode": {
    "name": "ipython",
    "version": 3
   },
   "file_extension": ".py",
   "mimetype": "text/x-python",
   "name": "python",
   "nbconvert_exporter": "python",
   "pygments_lexer": "ipython3",
   "version": "3.7.7"
  }
 },
 "nbformat": 4,
 "nbformat_minor": 4
}
